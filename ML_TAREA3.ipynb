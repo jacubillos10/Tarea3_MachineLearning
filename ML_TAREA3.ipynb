{
  "cells": [
    {
      "cell_type": "markdown",
      "metadata": {
        "id": "uCwCKmrvlgIR"
      },
      "source": [
        "##Tarea 3"
      ]
    },
    {
      "cell_type": "markdown",
      "metadata": {
        "id": "_7qzxoaclafZ"
      },
      "source": [
        "El objetivo de este taller es resolver el problema de clasificación de potabilidad de agua\n",
        "usando los datos adjuntos. Divida apropiadamente los datos en conjuntos de entrenamiento y\n",
        "prueba. A su vez, parte de los datos de entrenamiento se deben utilizar en los procedimientos\n",
        "de selección de modelo.\n"
      ]
    },
    {
      "cell_type": "code",
      "execution_count": 1,
      "metadata": {
        "id": "kutG6H6BvQHq"
      },
      "outputs": [],
      "source": [
        "from sklearn.model_selection import train_test_split\n",
        "from sklearn.preprocessing import StandardScaler\n",
        "from sklearn.tree import DecisionTreeClassifier\n",
        "import pandas as pd\n",
        "import numpy as np\n",
        "import matplotlib.pyplot as plt"
      ]
    },
    {
      "cell_type": "code",
      "execution_count": 2,
      "metadata": {
        "colab": {
          "base_uri": "https://localhost:8080/"
        },
        "id": "mhxWgCF2EGTe",
        "outputId": "ec9f3b38-e068-4696-e26d-f16374ed14a6"
      },
      "outputs": [
        {
          "name": "stdout",
          "output_type": "stream",
          "text": [
            "Forma por defecto del dataset '.csv': \n",
            " ['ph', 'Hardness', 'Solids', 'Chloramines', 'Sulfate', 'Conductivity', 'Organic_carbon', 'Trihalomethanes', 'Turbidity', 'Potability']\n"
          ]
        }
      ],
      "source": [
        "# 1. Cargar los datos\n",
        "datos = pd.read_csv('water_potability.csv').dropna()\n",
        "print(\"Forma por defecto del dataset '.csv': \\n\", list(datos.keys()))\n",
        "\n",
        "# 2. Preprocesar los datos si es necesario\n",
        "X = datos.drop('Potability', axis=1)\n",
        "y = datos['Potability']\n",
        "\n",
        "# Lidiar con los valores nulos, normalizar, etc.\n",
        "scaler = StandardScaler()\n",
        "X_n= scaler.fit_transform(X)\n",
        "\n",
        "# 3. Dividir los datos en conjuntos de entrenamiento y prueba\n",
        "X_train, X_test, y_train, y_test = train_test_split(X_n, y, test_size=0.2, random_state=42)"
      ]
    },
    {
      "cell_type": "markdown",
      "metadata": {
        "id": "-BJeWu33lmgM"
      },
      "source": [
        "#1.\n",
        "Resuelva el problema utilizando Random Forest. Seleccione el modelo apropiado por\n",
        "validación cruzada. para esto entrene modelos con los siguientes parámetros:\n",
        "\n",
        "\n",
        "*   Número de árboles: Por lo menos 4 valores escogidos entre 100 y 500,\n",
        "*   Mínimo número de datos por hoja: Por lo menos 3 valores entre 2 y 30.\n",
        "\n",
        "\n"
      ]
    },
    {
      "cell_type": "code",
      "execution_count": 3,
      "metadata": {
        "id": "wuHG-ueVKuHB"
      },
      "outputs": [],
      "source": [
        "from sklearn.ensemble import RandomForestClassifier\n",
        "from sklearn.model_selection import GridSearchCV"
      ]
    },
    {
      "cell_type": "code",
      "execution_count": 4,
      "metadata": {
        "id": "t__YIxvVlJ3f"
      },
      "outputs": [],
      "source": [
        "# Configurar la grilla de parámetros para Random Forest\n",
        "params_RF = {\n",
        "    'n_estimators'      :   [100, 200, 300, 500],  # Número de árboles\n",
        "    'min_samples_leaf'  :            [2, 15, 30],  # Mínimo número de datos por hoja\n",
        "}\n",
        "\n",
        "# Crear y entrenar el clasificador Random Forest\n",
        "RF = RandomForestClassifier(random_state=42)\n",
        "cv_RF = GridSearchCV(estimator = RF, param_grid = params_RF) # Introducir los parámetros de validación cruzada\n",
        "cv_RF.fit(X_train, y_train)\n",
        "\n",
        "# Seleccionar el mejor modelo\n",
        "mejor_RF = cv_RF.best_estimator_\n",
        "\n",
        "# Evaluar el modelo seleccionado en el conjunto de prueba\n",
        "y_pred_RF = mejor_RF.predict(X_test)"
      ]
    },
    {
      "cell_type": "code",
      "execution_count": 5,
      "metadata": {
        "id": "UiYzB_O0hdRX"
      },
      "outputs": [],
      "source": [
        "from sklearn.metrics import accuracy_score, classification_report"
      ]
    },
    {
      "cell_type": "code",
      "execution_count": 6,
      "metadata": {
        "colab": {
          "base_uri": "https://localhost:8080/"
        },
        "id": "9f_C9aB2KJGg",
        "outputId": "162d94c6-2f71-45f5-ebd8-6d9651f18583"
      },
      "outputs": [
        {
          "name": "stdout",
          "output_type": "stream",
          "text": [
            "-@Random Forest-\n",
            "\n",
            " Mejores parámetros:  \n",
            " - Número de árboles (estimadores):    2 \n",
            " - Número de hojas (datos)        :  500\n",
            "\n",
            " Accuracy en conjunto de prueba:    0.6699751861042184\n",
            "\n",
            " Reporte: \n",
            "               precision    recall  f1-score   support\n",
            "\n",
            "           0       0.66      0.86      0.75       231\n",
            "           1       0.69      0.41      0.52       172\n",
            "\n",
            "    accuracy                           0.67       403\n",
            "   macro avg       0.68      0.64      0.63       403\n",
            "weighted avg       0.67      0.67      0.65       403\n",
            "\n"
          ]
        }
      ],
      "source": [
        "# Stats\n",
        "mejores_parametros_RF = cv_RF.best_params_\n",
        "accuracy_RF = accuracy_score(y_test, y_pred_RF)\n",
        "\n",
        "# Printer\n",
        "print(\"-@Random Forest-\")\n",
        "print(\"\\n Mejores parámetros: \",\n",
        "      \"\\n - Número de árboles (estimadores):   \", list(mejores_parametros_RF.values())[0],\n",
        "      \"\\n - Número de hojas (datos)        : \",   list(mejores_parametros_RF.values())[1])\n",
        "print(\"\\n Accuracy en conjunto de prueba:   \",    accuracy_RF)\n",
        "print(\"\\n Reporte: \\n\",      classification_report(y_test, y_pred_RF))"
      ]
    },
    {
      "cell_type": "markdown",
      "metadata": {
        "id": "QgXr80OjoGsV"
      },
      "source": [
        "#2.\n",
        "Resuelva el problema utilizando Xgboost. Seleccione el modelo apropiado por validación cruzada. para esto entrene modelos con los siguientes parámetros:\n",
        "\n",
        "\n",
        "*   Número de árboles: Por lo menos 8 valores escogidos entre 50 y 600,\n",
        "*   Factor de encogimiento: Por lo menos 5 valores entre 0 y 1.\n",
        "\n",
        "\n"
      ]
    },
    {
      "cell_type": "code",
      "execution_count": 7,
      "metadata": {
        "id": "i_vE8FNUGca9"
      },
      "outputs": [],
      "source": [
        "from xgboost import XGBClassifier"
      ]
    },
    {
      "cell_type": "code",
      "execution_count": 8,
      "metadata": {
        "id": "qtUWTnOgohI-"
      },
      "outputs": [],
      "source": [
        "# Configurar la grilla de parámetros para XGBoost\n",
        "params_XGB = {\n",
        "    'n_estimators'    : [50, 100, 150, 200, 250, 300, 400, 600],  # Número de árboles\n",
        "    'learning_rate'   :              [0.05, 0.1, 0.2, 0.3, 0.4],  # Factor de encogimiento\n",
        "}\n",
        "\n",
        "# Crear y entrenar el clasificador XGBoost\n",
        "XGB = XGBClassifier(use_label_encoder = False, eval_metric = 'logloss')\n",
        "cv_XGB = GridSearchCV(estimator = XGB, param_grid = params_XGB) # Introducir los parámetros de validación cruzada\n",
        "cv_XGB.fit(X_train, y_train)\n",
        "\n",
        "# Seleccionar el mejor modelo\n",
        "mejor_XGB = cv_XGB.best_estimator_\n",
        "\n",
        "# Evaluar el modelo seleccionado en el conjunto de prueba\n",
        "y_pred_XGB = mejor_XGB.predict(X_test)"
      ]
    },
    {
      "cell_type": "code",
      "execution_count": 9,
      "metadata": {
        "colab": {
          "base_uri": "https://localhost:8080/"
        },
        "id": "odVpfJNqKE9t",
        "outputId": "aebea54c-9e4e-4362-fc30-63d81f13fac1"
      },
      "outputs": [
        {
          "name": "stdout",
          "output_type": "stream",
          "text": [
            "-@XGBoost-\n",
            "\n",
            " Mejores parámetros:  \n",
            " - Número de árboles (estimadores)   : 0.05 \n",
            " - Tasa de aprendizaje (encogimiento):   50\n",
            "\n",
            " Accuracy en conjunto de prueba:     0.630272952853598\n",
            "\n",
            " Reporte: \n",
            "               precision    recall  f1-score   support\n",
            "\n",
            "           0       0.63      0.85      0.72       231\n",
            "           1       0.62      0.34      0.44       172\n",
            "\n",
            "    accuracy                           0.63       403\n",
            "   macro avg       0.63      0.59      0.58       403\n",
            "weighted avg       0.63      0.63      0.60       403\n",
            "\n"
          ]
        }
      ],
      "source": [
        "# Stats\n",
        "mejores_parametros_XGB = cv_XGB.best_params_\n",
        "accuracy_XGB = accuracy_score(y_test, y_pred_XGB)\n",
        "\n",
        "# Printer\n",
        "print(\"-@XGBoost-\")\n",
        "print(\"\\n Mejores parámetros: \",\n",
        "      \"\\n - Número de árboles (estimadores)   :\",           list(mejores_parametros_XGB.values())[0],\n",
        "      \"\\n - Tasa de aprendizaje (encogimiento):  \",         list(mejores_parametros_XGB.values())[1])\n",
        "print(\"\\n Accuracy en conjunto de prueba:    \",    accuracy_XGB)\n",
        "print(\"\\n Reporte: \\n\",      classification_report(y_test, y_pred_XGB))"
      ]
    },
    {
      "cell_type": "markdown",
      "metadata": {
        "id": "asAl2PRSoheY"
      },
      "source": [
        "#3.\n",
        "Escriba su propia implementación de Adaboost, usando como clasificador base decision\n",
        "stumps (es decir árboles de decisión con sólo un nivel). Escriba su propia implementación de la rutina de entrenamiento de los clasificadores base. Entrene un modelo con\n",
        "600 clasificadores base y grafique curvas de errores de entrenamiento y validación que\n",
        "le permitan seleccionar un modelo con un número apropiado de clasificadores base.\n"
      ]
    },
    {
      "cell_type": "code",
      "execution_count": 10,
      "metadata": {
        "id": "0rdyuAcyon4S"
      },
      "outputs": [],
      "source": [
        "features = list(datos.keys())\n",
        "features.remove('Potability')\n",
        "X_train3, X_temp3, y_train3, y_temp3 = train_test_split(datos[features], datos['Potability'], test_size=0.2)\n",
        "X_val3, X_test3, y_val3, y_test3 = train_test_split(X_temp3, y_temp3, test_size=0.5)"
      ]
    },
    {
      "cell_type": "code",
      "execution_count": 11,
      "metadata": {
        "id": "krezWTgMf8m7"
      },
      "outputs": [],
      "source": [
        "\"\"\"\n",
        "Aquí secuestramos la función para normalizar que habíamos hecho en la tarea 1. Y luego la usamos para normalizar los datos de la tarea 3, en el punto 3.\n",
        "Los datos de validación y test se normalizaron con la media y la desviación de los datos de entrenamiento\n",
        "\"\"\"\n",
        "parametros_train = dict(map(lambda x: (x, {'media': np.mean(X_train3[x]), 'desviacion': np.std(X_train3[x])}), X_train3.keys()))\n",
        "def normalizar(dataSet, features, parametros = []):\n",
        "    \"\"\"\n",
        "    Esta función resta la media y luego divide entre la desviación estandar de cada dato en cada columna. Si se le especifica la media y la desviación en los parámetros \n",
        "    Usa esa media y desviación dada, de lo contrario, calcula la media y la desviación de cada columna especificada en \"features\"\n",
        "    @input: dataSet <pd.DataFrame>: Tabla de datos a la que se le va a dar normalización a la columans dadas\n",
        "    @input: features <list>: lista de \"features\" o columnas que se van a normalizar\n",
        "    @input: (opcional) parametros <dict>: En caso de que se quiera normalizar con una media y una desviación dada se especifican en un diccionario así: {'mileage':{'media': 2.9, 'desviacion': 7}}\n",
        "    \"\"\"\n",
        "    if len(parametros) == 0:\n",
        "        for feature in features:\n",
        "            media = np.mean(dataSet[feature])\n",
        "            desviacion = np.std(dataSet[feature])\n",
        "            if desviacion != 0:\n",
        "                dataSet[feature] = (dataSet[feature] - media)/desviacion\n",
        "            #fin if \n",
        "        #fin for\n",
        "    #fin if \n",
        "    else:\n",
        "        for feature in features:\n",
        "            media = parametros[feature]['media']\n",
        "            desviacion = parametros[feature]['desviacion']\n",
        "            if desviacion != 0:\n",
        "                dataSet[feature] = (dataSet[feature] - media)/desviacion\n",
        "            #fin if \n",
        "        #fin for\n",
        "#fin función\n",
        "normalizar(X_train3, features)\n",
        "normalizar(X_val3, features, parametros_train)\n",
        "normalizar(X_test3, features, parametros_train)"
      ]
    },
    {
      "cell_type": "code",
      "execution_count": 12,
      "metadata": {
        "id": "D2mz6hZugTUM"
      },
      "outputs": [],
      "source": [
        "def AdaBoostear(datos, etiquetas, N_clasificadores):\n",
        "    \"\"\"\n",
        "    Esta función entrena un decision stump N_clasificadores veces siguiendo el algoritmo de AdaBoost. Para ello inicia un vector D de pesos iguala 1/N_datos. Luego entrena un decision stump \n",
        "    con los datos ponderados de acuerdo a D y predice los datos de acuerdo a ese modelo, lo cual genera un vector de valores entre 0 y 1. Esta vector y el vector de etiquetas se trnasforman \n",
        "    en vectores cuyos valores van entre -1 y 1 para que puedas ser multiplicados. COn estos vectores entre -1 y 1 se calculan los valores de los errores, alpha y los D's en la siguiente\n",
        "    iteración. AL repetir este proceso N_clasificadores veces se obtienen N_clasificadores alphas y N_clasificadores modelos. Tanto los valores de alpha como los errores y lso modelos son \n",
        "    almacenados en el diccionario que esta función devuelve\n",
        "    @input datos <pd.DataFrame>: Datos que se usarán para el entrenamiento del modelo. \n",
        "    @input etiquetas <np.array>: Etiquetas de cada uno de los datos, las cuales son representadas con el número 0 o el número 1\n",
        "    @input N_clasificadores <int>: Número de iteraciones o de clasificadores del cual se compone el modelo final. En el enunciado este número es 600\n",
        "    @output lista_modelos <dict>: Diccionario que tiene toda la información necesaaria que se obtiene en cada iteración como los alphas y lso modelos\n",
        "    \"\"\"\n",
        "    D = (1/len(datos.index))*np.ones(len(datos.index)) \n",
        "    lista_modelos = []\n",
        "    for k in range(N_clasificadores):\n",
        "        modelo = DecisionTreeClassifier(max_depth=1)\n",
        "        modelo.fit(datos, etiquetas, sample_weight=D)\n",
        "        #estimaciones_modelo es un vector cuyos valores van entre 0 y 1, tal como las etiquetas de y, endonde 0 indica agua no potable y 1 indica agua potable\n",
        "        estimaciones_modelo = modelo.predict(datos)\n",
        "        #este es un vector que guarda los valores de (y_i)*hk(x_i). Primero transforma los vectores de \"y\" y de las estimaciones a valores entre -1 y 1, para luego multiplicar cada uno de los valores\n",
        "        #generando otro vector entr -1 y 1. Luego transforma es evector en uno que está entre 0 y 1\n",
        "        aciertos = 0.5*((2*estimaciones_modelo - 1)*(2*etiquetas - 1) + 1)\n",
        "        descaches = 1 - aciertos\n",
        "        #Este producto punto en error_k garantiza que solo los D's correspondientes a fallos sean sumados\n",
        "        error_k = D.dot(descaches)\n",
        "        alpha_k = 0.5*np.log((1-error_k)/error_k)\n",
        "        vector_exponenciales = np.exp(-alpha_k*(2*aciertos - 1))\n",
        "        z_k = D.dot(vector_exponenciales)\n",
        "        D_nuevo = (1/z_k)*(D*vector_exponenciales)\n",
        "        lista_modelos.append({'alpha': alpha_k, 'arbol': modelo, 'D': D, 'Error': error_k})\n",
        "        D = D_nuevo[:]\n",
        "    #fin for\n",
        "    return lista_modelos\n",
        "#fin función"
      ]
    },
    {
      "cell_type": "code",
      "execution_count": 13,
      "metadata": {},
      "outputs": [],
      "source": [
        "modelo_adaboost_train = AdaBoostear(X_train3, y_train3, 600)\n",
        "modelo_adaboost_validate = AdaBoostear(X_val3, y_val3, 600)"
      ]
    },
    {
      "cell_type": "code",
      "execution_count": 14,
      "metadata": {},
      "outputs": [
        {
          "data": {
            "text/plain": [
              "<matplotlib.legend.Legend at 0x7f4d2453d650>"
            ]
          },
          "execution_count": 14,
          "metadata": {},
          "output_type": "execute_result"
        },
        {
          "data": {
            "image/png": "[encoded data removed]",
            "text/plain": [
              "<Figure size 640x480 with 1 Axes>"
            ]
          },
          "metadata": {},
          "output_type": "display_data"
        }
      ],
      "source": [
        "N_puntos = 600\n",
        "iteracion = np.linspace(0,N_puntos - 1, N_puntos)\n",
        "errores_train = list(map(lambda x: x['Error'], modelo_adaboost_train))[:N_puntos]\n",
        "errores_val = list(map(lambda x: x['Error'], modelo_adaboost_validate))[:N_puntos]\n",
        "fig1 = plt.figure()\n",
        "ax1 = fig1.add_subplot(111)\n",
        "ax1.plot(iteracion, errores_train, label = 'Entrenamiento')\n",
        "ax1.plot(iteracion, errores_val, label = 'Validación')\n",
        "ax1.set_xlabel('Número de iteración (k)')\n",
        "ax1.set_ylabel('Error del modelo en la iteración k')\n",
        "ax1.set_title('Gráfica del error en función de la iteración para los clasificadores débiles')\n",
        "ax1.legend(loc = 'lower right')"
      ]
    },
    {
      "cell_type": "code",
      "execution_count": 15,
      "metadata": {},
      "outputs": [],
      "source": [
        "def Evaluar_Adaboost(datos, lista_dic_adaboost):\n",
        "    \"\"\"\n",
        "    Esta función retorna la suma f de todos los modelos en Adaboost multiplicados por su respectivo parámetro alpha\n",
        "    @intput datos <pd.DataFrame>: Datos a los cuales se les va a predecir la etiqueta\n",
        "    @input lista_dic_adaboost <list>: Lista de diccionarios que tiene toda la información de los valores (por ejemplo alpha) y modelos obtenidos con AdaBoost\n",
        "    @output <np.array>: Etiquetas predichas por el nuevo modelo compuesto\n",
        "    \"\"\"\n",
        "    suma = 0\n",
        "    for i in range(len(lista_dic_adaboost)):\n",
        "        termino = lista_dic_adaboost[i]['alpha']*(2*lista_dic_adaboost[i]['arbol'].predict(datos) - 1)\n",
        "        suma += termino\n",
        "    #fin for\n",
        "    return 0.5*(np.sign(suma) + 1)\n",
        "#fin funcion\n",
        "\n",
        "def hallar_aciertos(y, predicción):\n",
        "    \"\"\"\n",
        "    Esta función halla el porcentaje de aciertos de un modelo comparando las etiquetas (y) con el vector de predicciones. \n",
        "    @input y <np.array>: vector que contiene las etiquetas reales\n",
        "    @input predicción <np.array>: vector que contiene las etiquetas predichas por el modelo\n",
        "    @output Aciertos <float>: porcentaje de aciertos del modelo\n",
        "    \"\"\"\n",
        "    multi = 0.5*((2*y - 1)*(2*predicción -1) + 1) \n",
        "    Aciertos = (1/(len(y)))*sum(multi)\n",
        "    return Aciertos\n",
        "#fin funcion"
      ]
    },
    {
      "cell_type": "code",
      "execution_count": 16,
      "metadata": {},
      "outputs": [],
      "source": [
        "evaluacion_train = Evaluar_Adaboost(X_train3, modelo_adaboost_train)\n",
        "evaluacion_test = Evaluar_Adaboost(X_test3, modelo_adaboost_train)\n",
        "aciertos_test = hallar_aciertos(y_test3, evaluacion_test)\n",
        "aciertos_train = hallar_aciertos(y_train3, evaluacion_train)"
      ]
    },
    {
      "cell_type": "code",
      "execution_count": 17,
      "metadata": {},
      "outputs": [
        {
          "name": "stdout",
          "output_type": "stream",
          "text": [
            "-@AdaBoost-\n",
            "Porcentaje de éxito del mejor clasificador debil en los datos de Entrenamiento:  0.6162935323383082\n",
            "Porcentaje de éxito del modelo de AdaBoost en los datos de Entrenamiento:  0.6511194029850746\n",
            "Porcentaje de éxito del mejor clasificador debil en los datos de Test:  0.5792079207920792\n",
            "Porcentaje de éxito del modelo de AdaBoost en los datos de Test:  0.6039603960396039\n"
          ]
        }
      ],
      "source": [
        "print(\"-@AdaBoost-\")\n",
        "dic_mejor_clasificador = min(modelo_adaboost_train, key = lambda x: x['Error'])\n",
        "exito_mejor_clasificador_train = 1 - dic_mejor_clasificador['Error']\n",
        "evaluacion_mejor_clasificador_test = dic_mejor_clasificador['arbol'].predict(X_test3)\n",
        "aciertos_mejor_clasificador_test = hallar_aciertos(y_test3, evaluacion_mejor_clasificador_test)\n",
        "print(\"Porcentaje de éxito del mejor clasificador debil en los datos de Entrenamiento: \", exito_mejor_clasificador_train)\n",
        "print(\"Porcentaje de éxito del modelo de AdaBoost en los datos de Entrenamiento: \", aciertos_train)\n",
        "print(\"Porcentaje de éxito del mejor clasificador debil en los datos de Test: \", aciertos_mejor_clasificador_test)\n",
        "print(\"Porcentaje de éxito del modelo de AdaBoost en los datos de Test: \", aciertos_test)"
      ]
    },
    {
      "cell_type": "markdown",
      "metadata": {
        "id": "U9x9gG0mooM9"
      },
      "source": [
        "#4.\n",
        "Evalúe sus tres modelos resultantes en los datos de prueba con métricas apropiadas y\n",
        "compare su desempeño."
      ]
    },
    {
      "cell_type": "code",
      "execution_count": null,
      "metadata": {
        "id": "wGZ635_psT_G"
      },
      "outputs": [],
      "source": []
    },
    {
      "cell_type": "markdown",
      "metadata": {
        "id": "W4ViKHlesUVO"
      },
      "source": [
        "# .\n",
        "**Entregable:** Notebook de Jupyter en que se describen sus procedimientos, resultados,\n",
        "análisis de resultados y conclusiones (y por supuesto, el código utilizado). Este informe\n",
        "debe estar bien estructurado, con buena redacción y ortografía.\n"
      ]
    }
  ],
  "metadata": {
    "colab": {
      "history_visible": true,
      "provenance": []
    },
    "kernelspec": {
      "display_name": "Python 3",
      "name": "python3"
    },
    "language_info": {
      "codemirror_mode": {
        "name": "ipython",
        "version": 3
      },
      "file_extension": ".py",
      "mimetype": "text/x-python",
      "name": "python",
      "nbconvert_exporter": "python",
      "pygments_lexer": "ipython3",
      "version": "3.11.6"
    }
  },
  "nbformat": 4,
  "nbformat_minor": 0
}
